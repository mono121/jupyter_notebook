{
 "cells": [
  {
   "cell_type": "code",
   "execution_count": null,
   "metadata": {},
   "outputs": [],
   "source": [
    "import matplotlib.pyplot as plt\n",
    "import pandas as pd\n",
    "import numpy as np\n",
    "import os \n",
    "import math\n",
    "import japanize_matplotlib\n",
    "import matplotlib.ticker as ptick\n",
    "from matplotlib.pyplot import figure\n",
    "from matplotlib.backends.backend_pdf import PdfPages"
   ]
  },
  {
   "cell_type": "code",
   "execution_count": null,
   "metadata": {
    "scrolled": true
   },
   "outputs": [],
   "source": [
    "def write_all():\n",
    "    csv_file=os.listdir('csv/')\n",
    "    pp = PdfPages('test.pdf')\n",
    "    \n",
    "    for i in range(len(csv_file)):\n",
    "        file = pd.read_csv('csv/' + str(csv_file[i]) ,usecols=[0,1], skiprows=2, names=[\"B40電流\", \"電流値\"], encoding=\"\")    \n",
    "        \n",
    "        fig = plt.figure(num=None, figsize=(15, 6))#グラフのサイズ\n",
    "        plt.xticks(np.arange(2, 8+1, 0.3))\n",
    "        plt.yticks(np.arange(-5e-6, 5e-4, 3e-6))\n",
    "        plt.xlabel('B40電流', fontsize=15)\n",
    "        plt.ylabel('電流値', fontsize=15)\n",
    "        plt.xlim([2,8])\n",
    "        plt.grid(True)\n",
    "        plt.title(csv_file[i])\n",
    "        plt.plot(file[\"B40電流\"], file[\"電流値\"])    \n",
    "        ax = plt.gca()#axesの取得\n",
    "        ax.ticklabel_format(style=\"sci\",  axis=\"y\",scilimits=(-6,-6))#y軸指数表記\n",
    "        pp.savefig(fig)\n",
    "    pp.close()"
   ]
  },
  {
   "cell_type": "code",
   "execution_count": null,
   "metadata": {
    "scrolled": false
   },
   "outputs": [],
   "source": [
    "def plot(csv_file):\n",
    "    file = pd.read_csv('csv/' + str(csv_file) ,usecols=[0,1], skiprows=2, names=[\"B40電流\", \"電流値\"], encoding=\"\")  \n",
    "\n",
    "#グラフの作成\n",
    "    figure(num=None, figsize=(15, 6))#グラフのサイズ\n",
    "#軸のメモリ幅\n",
    "    plt.xticks(np.arange(2, 8+1, 0.5))\n",
    "    plt.yticks(np.arange(-5e-6, 5e-4, 5e-6))\n",
    "#軸ラベル\n",
    "    plt.xlabel('B40電流', fontsize=15)\n",
    "    plt.ylabel('電流値', fontsize=15)\n",
    "    plt.xlim([2,8])#x軸の範囲\n",
    "    plt.grid(True)\n",
    "    plt.plot(file[\"B40電流\"], file[\"電流値\"])    \n",
    "    ax = plt.gca()#axesの取得\n",
    "    ax.ticklabel_format(style=\"sci\",  axis=\"y\",scilimits=(-6,-6))#y軸指数表記\n",
    "    \n",
    "def multi_plot(csv_file1, csv_file2):\n",
    "    file1 = pd.read_csv('csv/' + str(csv_file1) ,usecols=[0,1], skiprows=2, names=[\"B40電流\", \"電流値\"], encoding=\"\")  \n",
    "    file2 = pd.read_csv('csv/' + str(csv_file2) ,usecols=[0,1], skiprows=2, names=[\"B40電流\", \"電流値\"], encoding=\"\")  \n",
    "    \n",
    "    #グラフ重ねて表示\n",
    "    figure(num=None, figsize=(15, 6))#グラフのサイズ\n",
    "    #軸のメモリ幅\n",
    "    plt.xticks(np.arange(2, 8+1, 0.5))\n",
    "    plt.yticks(np.arange(-4e-6, 4e-4, 4e-6))\n",
    "    #軸ラベル\n",
    "    plt.xlabel('B40電流', fontsize=15)\n",
    "    plt.ylabel('電流値', fontsize=15)\n",
    "    plt.xlim([2,8])#x軸の範囲\n",
    "    plt.grid(True)\n",
    "    plt.plot(file1[\"B40電流\"], file1[\"電流値\"])\n",
    "    ax = plt.gca()#axesの取得\n",
    "    ax.ticklabel_format(style=\"sci\",  axis=\"y\",scilimits=(-6,-6))#y軸指数表記\n",
    "    plt.plot(file2[\"B40電流\"], file2[\"電流値\"])"
   ]
  },
  {
   "cell_type": "code",
   "execution_count": null,
   "metadata": {
    "scrolled": false,
    "slideshow": {
     "slide_type": "-"
    }
   },
   "outputs": [],
   "source": [
    "def plot_graph(Hcurr):\n",
    "    #表の作成\n",
    "    ion_name=['H+','H2+ C6+ N7+ O8+','B5+','O7+','N6+','C5+','O6+','B4+','N5+'\n",
    "              ,'C4+','O5+','10B3+','N4+','B3+','C3+ O4+','N3+','10B2+','O3+','B2+','C2+','N2+','O2+']\n",
    "    ion_mass=[1,2,2.2,2.28,2.33,2.4,2.66,2.75,2.8,3,3.2,3.33,3.5,3.66,4,4.66,5,5.33,5.5,6,7,8]\n",
    "    ion_curr=[math.sqrt(i)*Hcurr for i in ion_mass]\n",
    "\n",
    "    #原子質量と電流値を小数点2桁に変更\n",
    "    for j in range(len(ion_mass)):\n",
    "        ion_mass[j]=\"{:.2f}\".format(ion_mass[j])\n",
    "    for j in range(len(ion_curr)):\n",
    "        ion_curr[j]=\"{:.2f}\".format(ion_curr[j])\n",
    "\n",
    "    list = [\n",
    "        ion_mass, \n",
    "        ion_curr\n",
    "    ]\n",
    "\n",
    "    custom_style = [\n",
    "        {\n",
    "            'selector': 'th', #表のヘッダーのスタイルを変更\n",
    "            'props':[\n",
    "                ('border', 'solid black 1px'), #ボーダーを実線、黒色、太さ1pxに設定\n",
    "                ('text-align', 'center'), #中央揃え\n",
    "            ]\n",
    "        },\n",
    "        {\n",
    "            'selector': 'td', #各セルのスタイルを変更\n",
    "            'props':[\n",
    "                ('border', 'solid black 1px'), #ボーダーを実線、黒色、太さ1pxに設定\n",
    "                ('text-align', 'center'), #中央揃え\n",
    "            ]\n",
    "        }\n",
    "    ]\n",
    "    df = pd.DataFrame(list)\n",
    "    df.index = ['B40電流','電流値']#列要素の設定\n",
    "    df.columns =ion_name#行要素の設定\n",
    "    display(df.style.set_table_styles(custom_style))"
   ]
  },
  {
   "cell_type": "code",
   "execution_count": null,
   "metadata": {},
   "outputs": [],
   "source": [
    "plot_graph(2.5)"
   ]
  }
 ],
 "metadata": {
  "celltoolbar": "Slideshow",
  "kernelspec": {
   "display_name": "Python 3",
   "language": "python",
   "name": "python3"
  },
  "language_info": {
   "codemirror_mode": {
    "name": "ipython",
    "version": 3
   },
   "file_extension": ".py",
   "mimetype": "text/x-python",
   "name": "python",
   "nbconvert_exporter": "python",
   "pygments_lexer": "ipython3",
   "version": "3.8.6"
  }
 },
 "nbformat": 4,
 "nbformat_minor": 4
}

{
 "cells": [
  {
   "cell_type": "code",
   "execution_count": 1,
   "metadata": {},
   "outputs": [],
   "source": [
    "import pandas as pd\n",
    "import numpy as np\n",
    "import math\n",
    "import csv"
   ]
  },
  {
   "cell_type": "code",
   "execution_count": 2,
   "metadata": {
    "slideshow": {
     "slide_type": "-"
    }
   },
   "outputs": [],
   "source": [
    "calib = pd.read_csv(\"get3alpha.csv\", usecols=[0,3], names=[\"qcal\", \"qped\"], encoding=\"utf8\")\n",
    "sigma = pd.read_csv(\"sigmas.csv\", usecols=[0,1,2], names=[\"sigma_Gd\", \"sigma_Am\", \"sigma_Cm\"], encoding=\"utf8\")"
   ]
  },
  {
   "cell_type": "code",
   "execution_count": 3,
   "metadata": {
    "scrolled": true,
    "slideshow": {
     "slide_type": "-"
    }
   },
   "outputs": [
    {
     "name": "stdout",
     "output_type": "stream",
     "text": [
      "[[60.094865   64.3273099  65.80336077]\n",
      " [42.8552249  55.13250853 52.84920541]\n",
      " [40.57765042 43.25853591 51.39845508]\n",
      " [37.55481301 43.39321513 45.06915218]\n",
      " [36.67668213 43.17144397 44.01121872]\n",
      " [40.55006757 45.38865511 47.2147034 ]\n",
      " [43.29294927 48.74892839 50.03541677]\n",
      " [38.42693788 42.35963934 44.53193161]\n",
      " [38.11782492 43.37541831 44.38980694]\n",
      " [37.70980782 42.38723274 50.70399744]\n",
      " [38.83411894 42.86416067 44.4910185 ]\n",
      " [37.79991809 41.91296785 43.46426019]\n",
      " [37.93365712 44.14335246 44.88810652]\n",
      " [40.10121897 52.60220586 52.10568169]\n",
      " [37.17189218 42.5906909  48.98310459]\n",
      " [43.32582052 53.41707535 49.14628067]\n",
      " [55.44507128 59.18188221 58.97526258]\n",
      " [43.29520862 54.09176956 52.92720267]\n",
      " [41.57931113 44.97488131 49.07563122]\n",
      " [45.39542236 51.50261626 50.66601435]\n",
      " [42.92143188 48.48517457 54.00766954]\n",
      " [48.70015933 50.97841757 50.03552328]\n",
      " [38.69237375 44.84294392 45.21448491]\n",
      " [40.53259029 46.89515948 48.04551199]\n",
      " [41.98429328 45.93826185 53.08949895]\n",
      " [45.36510119 57.16675859 50.4248001 ]\n",
      " [43.87335407 48.34903599 53.82525793]\n",
      " [42.61443301 47.693803   48.45408918]\n",
      " [45.81548267 47.917014   54.4859232 ]\n",
      " [43.10500453 48.03764021 50.59653193]\n",
      " [41.88338701 47.0713513  47.78501581]\n",
      " [58.3342469  63.50956853 59.16051386]]\n"
     ]
    }
   ],
   "source": [
    "dssd_ch = list(range(1,3+1,1))\n",
    "b = np.array(dssd_ch)\n",
    "energy_optical_resolution_Gd=[calib[\"qcal\"]*(sigma[\"sigma_Gd\"]-calib[\"qped\"])*1000*2.35]\n",
    "energy_optical_resolution_Am=[calib[\"qcal\"]*(sigma[\"sigma_Am\"]-calib[\"qped\"])*1000*2.35]\n",
    "energy_optical_resolution_Cm=[calib[\"qcal\"]*(sigma[\"sigma_Cm\"]-calib[\"qped\"])*1000*2.35]\n",
    "\n",
    "data = energy_optical_resolution_Gd\n",
    "data += energy_optical_resolution_Am\n",
    "data += energy_optical_resolution_Cm\n",
    "a = np.array(data)\n",
    "print(a.T)"
   ]
  },
  {
   "cell_type": "code",
   "execution_count": 5,
   "metadata": {},
   "outputs": [],
   "source": [
    "with open('resolution.csv', 'w') as file:\n",
    "    writer = csv.writer(file, lineterminator='\\n')\n",
    "    writer.writerows(a.T)"
   ]
  }
 ],
 "metadata": {
  "celltoolbar": "Slideshow",
  "kernelspec": {
   "display_name": "Python 3",
   "language": "python",
   "name": "python3"
  },
  "language_info": {
   "codemirror_mode": {
    "name": "ipython",
    "version": 3
   },
   "file_extension": ".py",
   "mimetype": "text/x-python",
   "name": "python",
   "nbconvert_exporter": "python",
   "pygments_lexer": "ipython3",
   "version": "3.8.6"
  }
 },
 "nbformat": 4,
 "nbformat_minor": 4
}

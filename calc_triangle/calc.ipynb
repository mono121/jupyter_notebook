{
 "cells": [
  {
   "cell_type": "code",
   "execution_count": 1,
   "metadata": {},
   "outputs": [],
   "source": [
    "import matplotlib.pyplot as plt\n",
    "import numpy as np\n",
    "import math\n",
    "from PIL import Image"
   ]
  },
  {
   "cell_type": "code",
   "execution_count": 2,
   "metadata": {},
   "outputs": [
    {
     "data": {
      "image/png": "[encoded data removed]",
      "text/plain": [
       "<Figure size 432x288 with 1 Axes>"
      ]
     },
     "metadata": {
      "needs_background": "light"
     },
     "output_type": "display_data"
    },
    {
     "name": "stdout",
     "output_type": "stream",
     "text": [
      "求めたい記号の番号を入力してください\n",
      "1)a  2)b  3)c  4)θ\n",
      "2\n",
      "θの値を入力してください\n",
      "34\n",
      "度数法の場合は1、弧度法の場合は2を入力してください\n",
      "1\n",
      "既知の辺の長さはa,cのどちらですか？\n",
      "a\n",
      "aの値を入力してください\n",
      "56\n",
      "b: 37.77247694317589\n"
     ]
    }
   ],
   "source": [
    "#既知の角度と１辺から他の１辺の長さを計算、既知の２辺から角度を計算するプログラム\n",
    "#三角形の画像表示\n",
    "im = Image.open(\"triangle.png\")\n",
    "im_list = np.asarray(im)\n",
    "plt.imshow(im_list)\n",
    "plt.show()\n",
    "\n",
    "print('求めたい記号の番号を入力してください')\n",
    "print('1)a  2)b  3)c  4)θ')\n",
    "\n",
    "num = int(input())\n",
    "if num==1:\n",
    "    print('θの値を入力してください')\n",
    "    theta = float(input())\n",
    "    print('度数法の場合は1、弧度法の場合は2を入力してください')\n",
    "    t=int(input())\n",
    "    if t==1:\n",
    "        theta=theta/(180/math.pi)\n",
    "    print('既知の辺の長さはb,cのどちらですか？')\n",
    "    tri_len = input()\n",
    "    if tri_len=='b':\n",
    "        print('bの値を入力してください')\n",
    "        b=float(input())\n",
    "        a_ans=b/math.tan(theta)\n",
    "        print('a:',a_ans)\n",
    "    elif tri_len=='c':\n",
    "        print('cの値を入力してください')\n",
    "        c=float(input())\n",
    "        a_ans=c*math.cos(theta)\n",
    "        print('a:',a_ans)\n",
    "            \n",
    "elif num==2:\n",
    "    print('θの値を入力してください')\n",
    "    theta = float(input())\n",
    "    print('度数法の場合は1、弧度法の場合は2を入力してください')\n",
    "    t=int(input())\n",
    "    if t==1:\n",
    "        theta=theta/(180/math.pi)\n",
    "    print('既知の辺の長さはa,cのどちらですか？')\n",
    "    tri_len = input()       \n",
    "    if tri_len=='a':\n",
    "        print('aの値を入力してください')\n",
    "        a=float(input())\n",
    "        b_ans=a*math.tan(theta)\n",
    "        print('b:',b_ans)\n",
    "    elif tri_len=='c':\n",
    "        print('cの値を入力してください')\n",
    "        c=float(input())\n",
    "        b_ans=c*math.sin(theta)\n",
    "        print('b:',b_ans)\n",
    "            \n",
    "elif num==3:\n",
    "    print('θの値を入力してください')\n",
    "    theta = float(input())\n",
    "    print('度数法の場合は1、弧度法の場合は2を入力してください')\n",
    "    t=int(input())\n",
    "    if t==1:\n",
    "        theta=theta/(180/math.pi)\n",
    "    print('既知の辺の長さはa,bのどちらですか？')\n",
    "    tri_len = input()\n",
    "    if tri_len=='a':\n",
    "        print('aの値を入力してください')\n",
    "        a=float(input())\n",
    "        c_ans=a/math.cos(theta)\n",
    "        print('c:',c_ans)\n",
    "    elif tri_len=='b':\n",
    "        print('bの値を入力してください')\n",
    "        b=float(input())\n",
    "        c_ans=b*math.sin(theta)\n",
    "        print('c:',c_ans)\n",
    "            \n",
    "elif num==4:\n",
    "    print('既知の辺の長さは,ab,bc,acのどれですか？')\n",
    "    print('1)ab  2)bc  3)ac ')\n",
    "    tri_len = int(input())\n",
    "    \n",
    "    if tri_len==1:\n",
    "        print('aの値を入力してください')\n",
    "        a=float(input())\n",
    "        print('bの値を入力してください')\n",
    "        b=float(input())\n",
    "        theta_ans=math.atan(b/a)\n",
    "        print('θ:(弧度法)',theta_ans)\n",
    "        print('θ:(度数法)',theta_ans*(180/math.pi))\n",
    "    elif tri_len==2:\n",
    "        print('cの値を入力してください')\n",
    "        c=float(input())\n",
    "        print('bの値を入力してください')\n",
    "        b=float(input())\n",
    "        theta_ans=math.asin(b/c)\n",
    "        print('θ:(弧度法)',theta_ans)\n",
    "        print('θ:(度数法)',theta_ans*(180/math.pi))\n",
    "    elif tri_len==3:\n",
    "        print('cの値を入力してください')\n",
    "        c=float(input())\n",
    "        print('aの値を入力してください')\n",
    "        a=float(input())\n",
    "        theta_ans=math.acos(a/c)\n",
    "        print('θ:(弧度法)',theta_ans)\n",
    "        print('θ:(度数法)',theta_ans*(180/math.pi))\n",
    "        \n",
    "else:\n",
    "    print('正しい数字を入力してください')"
   ]
  },
  {
   "cell_type": "code",
   "execution_count": null,
   "metadata": {},
   "outputs": [],
   "source": []
  }
 ],
 "metadata": {
  "celltoolbar": "Slideshow",
  "kernelspec": {
   "display_name": "Python 3",
   "language": "python",
   "name": "python3"
  },
  "language_info": {
   "codemirror_mode": {
    "name": "ipython",
    "version": 3
   },
   "file_extension": ".py",
   "mimetype": "text/x-python",
   "name": "python",
   "nbconvert_exporter": "python",
   "pygments_lexer": "ipython3",
   "version": "3.8.6"
  }
 },
 "nbformat": 4,
 "nbformat_minor": 4
}
